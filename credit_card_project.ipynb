{
  "nbformat": 4,
  "nbformat_minor": 0,
  "metadata": {
    "colab": {
      "provenance": [],
      "collapsed_sections": [],
      "authorship_tag": "ABX9TyNy8OCUQw62BSr1NTJq3jT9",
      "include_colab_link": true
    },
    "kernelspec": {
      "name": "python3",
      "display_name": "Python 3"
    },
    "language_info": {
      "name": "python"
    }
  },
  "cells": [
    {
      "cell_type": "markdown",
      "metadata": {
        "id": "view-in-github",
        "colab_type": "text"
      },
      "source": [
        "<a href=\"https://colab.research.google.com/github/junaiskv94/Creditcard_xml_project/blob/main/credit_card_project.ipynb\" target=\"_parent\"><img src=\"https://colab.research.google.com/assets/colab-badge.svg\" alt=\"Open In Colab\"/></a>"
      ]
    },
    {
      "cell_type": "code",
      "execution_count": 23,
      "metadata": {
        "colab": {
          "base_uri": "https://localhost:8080/"
        },
        "id": "x2QfhVOi58JR",
        "outputId": "4c41e9a2-c4c1-4a08-b006-6cfa3b73008e"
      },
      "outputs": [
        {
          "output_type": "stream",
          "name": "stdout",
          "text": [
            "Drive already mounted at /content/drive; to attempt to forcibly remount, call drive.mount(\"/content/drive\", force_remount=True).\n"
          ]
        }
      ],
      "source": [
        "# Mounting google drieve\n",
        "from google.colab import drive\n",
        "drive.mount('/content/drive')"
      ]
    },
    {
      "cell_type": "code",
      "source": [
        "# import os moule\n",
        "import os\n",
        "from xml.etree import cElementTree as ET\n",
        "# Get the list of all files and directories\n",
        "file_names=os.listdir('/content/drive/MyDrive/Coding_data')"
      ],
      "metadata": {
        "id": "tub7_4DK6ANA"
      },
      "execution_count": 63,
      "outputs": []
    },
    {
      "cell_type": "code",
      "source": [
        "# Defining empty list for each variable\n",
        "person=[]\n",
        "DPD_percentage=[]\n",
        "Total_disbursed_amount=[]\n",
        "DPD_max_number_months=[]\n"
      ],
      "metadata": {
        "id": "maj2mYkA6tyn"
      },
      "execution_count": 64,
      "outputs": []
    },
    {
      "cell_type": "code",
      "source": [
        "# removing the unnecessary last element\n",
        "file_names.pop(-1)"
      ],
      "metadata": {
        "colab": {
          "base_uri": "https://localhost:8080/",
          "height": 35
        },
        "id": "850MsA_dCX29",
        "outputId": "a3368d10-57f2-4154-fb17-07deef5a46b8"
      },
      "execution_count": 65,
      "outputs": [
        {
          "output_type": "execute_result",
          "data": {
            "text/plain": [
              "'.ipynb_checkpoints'"
            ],
            "application/vnd.google.colaboratory.intrinsic+json": {
              "type": "string"
            }
          },
          "metadata": {},
          "execution_count": 65
        }
      ]
    },
    {
      "cell_type": "code",
      "source": [
        "# Checking the files\n",
        "file_names"
      ],
      "metadata": {
        "colab": {
          "base_uri": "https://localhost:8080/"
        },
        "id": "B_dmNwcvGmFY",
        "outputId": "c3643c9b-22c2-4a28-f90e-4519292ebbaa"
      },
      "execution_count": 66,
      "outputs": [
        {
          "output_type": "execute_result",
          "data": {
            "text/plain": [
              "['customer898231_loan899591_crif_report.html.xml',\n",
              " 'customer1195586_loan1197471_crif_report.html.xml',\n",
              " 'customer773504_loan774538_crif_report.html.xml',\n",
              " 'customer14235_loan14235_crif_report.html.xml',\n",
              " 'customer1129550_loan1131339_crif_report.html.xml',\n",
              " 'customer1113697_loan1115483_crif_report.html.xml',\n",
              " 'customer787561_loan788638_crif_report.html.xml',\n",
              " 'customer40409_loan40409_crif_report.html.xml',\n",
              " 'customer16475_loan16475_crif_report.html.xml',\n",
              " 'customer794397_loan795497_crif_report.html.xml']"
            ]
          },
          "metadata": {},
          "execution_count": 66
        }
      ]
    },
    {
      "cell_type": "code",
      "source": [
        "for index,name in enumerate(file_names): # Iterating over entire file\n",
        "  with open('/content/drive/MyDrive/Coding_data/'+name,'r') as f: # opening file\n",
        "    data = f.read() # reading file\n",
        "  root = ET.fromstring(data) # parses xml in to root element\n",
        "  trades=[]\n",
        "  disb_amount=[]\n",
        "  for x in root.iter('LOAN-DETAILS'): # Iterate over the tree\n",
        "    item=x.find('COMBINED-PAYMENT-HISTORY').text\n",
        "    item='month:yyyy,000/XXX|month:yyyy,000/XXX|'\n",
        "    trades.append(item)\n",
        "    try: # correction for the error due to empty text\n",
        "      amount=x.find('DISBURSED-AMT').text\n",
        "    except:\n",
        "      amount='0,0'\n",
        "    disb_amount.append(amount)\n",
        "    \n",
        "  total_trade=len(trades)\n",
        "  dpd_count=0\n",
        "  for i in range(total_trade):# iterate over total trade\n",
        "    try:\n",
        "      payment_hist=trades[i].split('|')\n",
        "      dpd=[h.split('/')[0][-3:] for h in payment_hist[:-1]] # extracting the DPD \n",
        "    except:\n",
        "      dpd='000'\n",
        "    for val in dpd:\n",
        "      if val.isdigit():\n",
        "        if int(val)>30: # checking for DPD more than 30 \n",
        "          dpd_count+=1\n",
        "          break;\n",
        "  dpd_percentage=(dpd_count/total_trade)*100      \n",
        "  # convert string to int \n",
        "  total_disb_amount=sum([int(val.replace(',','')) for val in disb_amount])\n",
        "  dpd_max_month=[]\n",
        "  for i in range(total_trade):\n",
        "    dpd_value=0\n",
        "    try:\n",
        "      payment_hist=trades[i].split('|')\n",
        "      dpd=[h.split('/')[0][-3:] for h in payment_hist[:-1]] \n",
        "    except:\n",
        "       dpd='000' \n",
        "    for val in dpd:\n",
        "      if val.isdigit():# checking whether a digit or not \n",
        "         if int(val)>30:\n",
        "           dpd_value+=1\n",
        "    dpd_max_month.append(dpd_value)\n",
        "    max_month_due=max(dpd_max_month) # finding the max of month of dpd30+due\n",
        "  # Appending the values in each iteration to the list\n",
        "  person.append(index+1)\n",
        "  DPD_percentage.append(dpd_percentage)\n",
        "  Total_disbursed_amount.append(total_disb_amount)\n",
        "  DPD_max_number_months.append(max_month_due)\n"
      ],
      "metadata": {
        "id": "tx33Ha016Oa2"
      },
      "execution_count": 67,
      "outputs": []
    },
    {
      "cell_type": "code",
      "source": [
        "# creating empty dictionary\n",
        "dict={}\n",
        "# Adding corresponding  key-values pairs\n",
        "dict['Person']=person\n",
        "dict['DPD_percentage']=DPD_percentage\n",
        "dict['Total_disbursed_amount']=Total_disbursed_amount\n",
        "dict['DPD_max_number_months']=DPD_max_number_months\n"
      ],
      "metadata": {
        "id": "L8ikM9Mfmu2H"
      },
      "execution_count": 68,
      "outputs": []
    },
    {
      "cell_type": "code",
      "source": [
        "# Importing panas \n",
        "import pandas as pd\n"
      ],
      "metadata": {
        "id": "my1oumamnO87"
      },
      "execution_count": 56,
      "outputs": []
    },
    {
      "cell_type": "code",
      "source": [
        "# creating data frame\n",
        "df=pd.DataFrame(dict)"
      ],
      "metadata": {
        "id": "-GQlfi-3nKvE"
      },
      "execution_count": 59,
      "outputs": []
    },
    {
      "cell_type": "code",
      "source": [
        "df"
      ],
      "metadata": {
        "colab": {
          "base_uri": "https://localhost:8080/",
          "height": 363
        },
        "id": "BSZBuVsGndvC",
        "outputId": "0ef0d79c-2bd2-499f-bc8f-27f305ec9215"
      },
      "execution_count": 60,
      "outputs": [
        {
          "output_type": "execute_result",
          "data": {
            "text/plain": [
              "   Person  DPD_percentage  Total_disbursed_amount  DPD_max_number_months\n",
              "0       1       12.820513                12449012                     18\n",
              "1       2       41.176471                 4471863                      3\n",
              "2       3       24.324324                 4133365                     36\n",
              "3       4       18.918919                 8532117                      7\n",
              "4       5       38.461538                  795601                     10\n",
              "5       6       18.518519                 1057320                      4\n",
              "6       7       16.666667                  691839                      2\n",
              "7       8       17.857143                 1075308                      5\n",
              "8       9       15.384615                 2868467                      5\n",
              "9      10       14.285714                  910791                      6"
            ],
            "text/html": [
              "\n",
              "  <div id=\"df-ec8bf5b7-54e7-4e08-8449-adc614790388\">\n",
              "    <div class=\"colab-df-container\">\n",
              "      <div>\n",
              "<style scoped>\n",
              "    .dataframe tbody tr th:only-of-type {\n",
              "        vertical-align: middle;\n",
              "    }\n",
              "\n",
              "    .dataframe tbody tr th {\n",
              "        vertical-align: top;\n",
              "    }\n",
              "\n",
              "    .dataframe thead th {\n",
              "        text-align: right;\n",
              "    }\n",
              "</style>\n",
              "<table border=\"1\" class=\"dataframe\">\n",
              "  <thead>\n",
              "    <tr style=\"text-align: right;\">\n",
              "      <th></th>\n",
              "      <th>Person</th>\n",
              "      <th>DPD_percentage</th>\n",
              "      <th>Total_disbursed_amount</th>\n",
              "      <th>DPD_max_number_months</th>\n",
              "    </tr>\n",
              "  </thead>\n",
              "  <tbody>\n",
              "    <tr>\n",
              "      <th>0</th>\n",
              "      <td>1</td>\n",
              "      <td>12.820513</td>\n",
              "      <td>12449012</td>\n",
              "      <td>18</td>\n",
              "    </tr>\n",
              "    <tr>\n",
              "      <th>1</th>\n",
              "      <td>2</td>\n",
              "      <td>41.176471</td>\n",
              "      <td>4471863</td>\n",
              "      <td>3</td>\n",
              "    </tr>\n",
              "    <tr>\n",
              "      <th>2</th>\n",
              "      <td>3</td>\n",
              "      <td>24.324324</td>\n",
              "      <td>4133365</td>\n",
              "      <td>36</td>\n",
              "    </tr>\n",
              "    <tr>\n",
              "      <th>3</th>\n",
              "      <td>4</td>\n",
              "      <td>18.918919</td>\n",
              "      <td>8532117</td>\n",
              "      <td>7</td>\n",
              "    </tr>\n",
              "    <tr>\n",
              "      <th>4</th>\n",
              "      <td>5</td>\n",
              "      <td>38.461538</td>\n",
              "      <td>795601</td>\n",
              "      <td>10</td>\n",
              "    </tr>\n",
              "    <tr>\n",
              "      <th>5</th>\n",
              "      <td>6</td>\n",
              "      <td>18.518519</td>\n",
              "      <td>1057320</td>\n",
              "      <td>4</td>\n",
              "    </tr>\n",
              "    <tr>\n",
              "      <th>6</th>\n",
              "      <td>7</td>\n",
              "      <td>16.666667</td>\n",
              "      <td>691839</td>\n",
              "      <td>2</td>\n",
              "    </tr>\n",
              "    <tr>\n",
              "      <th>7</th>\n",
              "      <td>8</td>\n",
              "      <td>17.857143</td>\n",
              "      <td>1075308</td>\n",
              "      <td>5</td>\n",
              "    </tr>\n",
              "    <tr>\n",
              "      <th>8</th>\n",
              "      <td>9</td>\n",
              "      <td>15.384615</td>\n",
              "      <td>2868467</td>\n",
              "      <td>5</td>\n",
              "    </tr>\n",
              "    <tr>\n",
              "      <th>9</th>\n",
              "      <td>10</td>\n",
              "      <td>14.285714</td>\n",
              "      <td>910791</td>\n",
              "      <td>6</td>\n",
              "    </tr>\n",
              "  </tbody>\n",
              "</table>\n",
              "</div>\n",
              "      <button class=\"colab-df-convert\" onclick=\"convertToInteractive('df-ec8bf5b7-54e7-4e08-8449-adc614790388')\"\n",
              "              title=\"Convert this dataframe to an interactive table.\"\n",
              "              style=\"display:none;\">\n",
              "        \n",
              "  <svg xmlns=\"http://www.w3.org/2000/svg\" height=\"24px\"viewBox=\"0 0 24 24\"\n",
              "       width=\"24px\">\n",
              "    <path d=\"M0 0h24v24H0V0z\" fill=\"none\"/>\n",
              "    <path d=\"M18.56 5.44l.94 2.06.94-2.06 2.06-.94-2.06-.94-.94-2.06-.94 2.06-2.06.94zm-11 1L8.5 8.5l.94-2.06 2.06-.94-2.06-.94L8.5 2.5l-.94 2.06-2.06.94zm10 10l.94 2.06.94-2.06 2.06-.94-2.06-.94-.94-2.06-.94 2.06-2.06.94z\"/><path d=\"M17.41 7.96l-1.37-1.37c-.4-.4-.92-.59-1.43-.59-.52 0-1.04.2-1.43.59L10.3 9.45l-7.72 7.72c-.78.78-.78 2.05 0 2.83L4 21.41c.39.39.9.59 1.41.59.51 0 1.02-.2 1.41-.59l7.78-7.78 2.81-2.81c.8-.78.8-2.07 0-2.86zM5.41 20L4 18.59l7.72-7.72 1.47 1.35L5.41 20z\"/>\n",
              "  </svg>\n",
              "      </button>\n",
              "      \n",
              "  <style>\n",
              "    .colab-df-container {\n",
              "      display:flex;\n",
              "      flex-wrap:wrap;\n",
              "      gap: 12px;\n",
              "    }\n",
              "\n",
              "    .colab-df-convert {\n",
              "      background-color: #E8F0FE;\n",
              "      border: none;\n",
              "      border-radius: 50%;\n",
              "      cursor: pointer;\n",
              "      display: none;\n",
              "      fill: #1967D2;\n",
              "      height: 32px;\n",
              "      padding: 0 0 0 0;\n",
              "      width: 32px;\n",
              "    }\n",
              "\n",
              "    .colab-df-convert:hover {\n",
              "      background-color: #E2EBFA;\n",
              "      box-shadow: 0px 1px 2px rgba(60, 64, 67, 0.3), 0px 1px 3px 1px rgba(60, 64, 67, 0.15);\n",
              "      fill: #174EA6;\n",
              "    }\n",
              "\n",
              "    [theme=dark] .colab-df-convert {\n",
              "      background-color: #3B4455;\n",
              "      fill: #D2E3FC;\n",
              "    }\n",
              "\n",
              "    [theme=dark] .colab-df-convert:hover {\n",
              "      background-color: #434B5C;\n",
              "      box-shadow: 0px 1px 3px 1px rgba(0, 0, 0, 0.15);\n",
              "      filter: drop-shadow(0px 1px 2px rgba(0, 0, 0, 0.3));\n",
              "      fill: #FFFFFF;\n",
              "    }\n",
              "  </style>\n",
              "\n",
              "      <script>\n",
              "        const buttonEl =\n",
              "          document.querySelector('#df-ec8bf5b7-54e7-4e08-8449-adc614790388 button.colab-df-convert');\n",
              "        buttonEl.style.display =\n",
              "          google.colab.kernel.accessAllowed ? 'block' : 'none';\n",
              "\n",
              "        async function convertToInteractive(key) {\n",
              "          const element = document.querySelector('#df-ec8bf5b7-54e7-4e08-8449-adc614790388');\n",
              "          const dataTable =\n",
              "            await google.colab.kernel.invokeFunction('convertToInteractive',\n",
              "                                                     [key], {});\n",
              "          if (!dataTable) return;\n",
              "\n",
              "          const docLinkHtml = 'Like what you see? Visit the ' +\n",
              "            '<a target=\"_blank\" href=https://colab.research.google.com/notebooks/data_table.ipynb>data table notebook</a>'\n",
              "            + ' to learn more about interactive tables.';\n",
              "          element.innerHTML = '';\n",
              "          dataTable['output_type'] = 'display_data';\n",
              "          await google.colab.output.renderOutput(dataTable, element);\n",
              "          const docLink = document.createElement('div');\n",
              "          docLink.innerHTML = docLinkHtml;\n",
              "          element.appendChild(docLink);\n",
              "        }\n",
              "      </script>\n",
              "    </div>\n",
              "  </div>\n",
              "  "
            ]
          },
          "metadata": {},
          "execution_count": 60
        }
      ]
    },
    {
      "cell_type": "code",
      "source": [
        "# saving to csv file\n",
        "df.to_csv('output.csv')"
      ],
      "metadata": {
        "id": "4acTMG7EnevA"
      },
      "execution_count": 61,
      "outputs": []
    }
  ]
}